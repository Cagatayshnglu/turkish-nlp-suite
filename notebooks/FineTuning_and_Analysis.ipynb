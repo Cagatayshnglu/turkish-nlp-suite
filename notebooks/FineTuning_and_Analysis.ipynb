
# Türkçe BERT Fine-Tuning ve Analiz Notebook'u
# - Küçük Türkçe veriyle fine-tuning örneği
# - Eğitim, değerlendirme ve görsel analiz

import pandas as pd
import matplotlib.pyplot as plt
from transformers import AutoTokenizer, AutoModelForSequenceClassification, Trainer, TrainingArguments
from sklearn.model_selection import train_test_split
import torch

df = pd.read_csv("../data/sample_turkish_texts.csv")
train, test = train_test_split(df, test_size=0.3, random_state=42)

model_name = "dbmdz/bert-base-turkish-cased"
tokenizer = AutoTokenizer.from_pretrained(model_name)
model = AutoModelForSequenceClassification.from_pretrained(model_name, num_labels=3)

labels = {"pozitif":0, "negatif":1, "nötr":2}
train_enc = tokenizer(list(train['text']), truncation=True, padding=True, return_tensors='pt')
test_enc = tokenizer(list(test['text']), truncation=True, padding=True, return_tensors='pt')
train_labels = torch.tensor([labels[x] for x in train['label']])
test_labels = torch.tensor([labels[x] for x in test['label']])

class SimpleDataset(torch.utils.data.Dataset):
    def __init__(self, encodings, labels):
        self.encodings = encodings
        self.labels = labels
    def __getitem__(self, idx):
        item = {key: val[idx] for key, val in self.encodings.items()}
        item['labels'] = self.labels[idx]
        return item
    def __len__(self):
        return len(self.labels)

train_dataset = SimpleDataset(train_enc, train_labels)
test_dataset = SimpleDataset(test_enc, test_labels)

training_args = TrainingArguments(
    output_dir='./results',
    num_train_epochs=1,
    per_device_train_batch_size=2,
    per_device_eval_batch_size=2,
    evaluation_strategy="epoch",
    logging_steps=2,
    save_steps=10,
    logging_dir='./logs',
    seed=42
)

trainer = Trainer(
    model=model,
    args=training_args,
    train_dataset=train_dataset,
    eval_dataset=test_dataset,
)

trainer.train()
metrics = trainer.evaluate()
print("Test Sonucu:", metrics)
